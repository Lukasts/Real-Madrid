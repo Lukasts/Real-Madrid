{
  "nbformat": 4,
  "nbformat_minor": 0,
  "metadata": {
    "colab": {
      "name": "KMC.ipynb",
      "provenance": [],
      "authorship_tag": "ABX9TyOybi4Q9C470KRtImUGIN+1",
      "include_colab_link": true
    },
    "kernelspec": {
      "name": "python3",
      "display_name": "Python 3"
    }
  },
  "cells": [
    {
      "cell_type": "markdown",
      "metadata": {
        "id": "view-in-github",
        "colab_type": "text"
      },
      "source": [
        "<a href=\"https://colab.research.google.com/github/bdominique/Real-Madrid/blob/master/KMC.ipynb\" target=\"_parent\"><img src=\"https://colab.research.google.com/assets/colab-badge.svg\" alt=\"Open In Colab\"/></a>"
      ]
    },
    {
      "cell_type": "code",
      "metadata": {
        "id": "rwTv1S-dLnOS",
        "colab_type": "code",
        "colab": {}
      },
      "source": [
        "#K-Means CLustring Algorithm to find the cluster centers of each dataset.\n",
        "from sklearn.cluster import KMeans\n",
        "import pandas as pd\n",
        "import numpy as np"
      ],
      "execution_count": 0,
      "outputs": []
    },
    {
      "cell_type": "code",
      "metadata": {
        "id": "hbL-md2sMVsW",
        "colab_type": "code",
        "colab": {}
      },
      "source": [
        "def KMC(filename, n):\n",
        "  data = pd.read_csv(filename)\n",
        "  kmeans = KMeans(n_clusters = n, random_state=0)\n",
        "  kmeans.fit(data)\n",
        "  centers = kmeans.cluster_centers_\n",
        "  #After finding the cluster_centers_, print out the feature that cooresponds to it.\n",
        "  for c in range(len(centers)):\n",
        "    print(\"---------Values for Cluster\", c+1, \"---------\")\n",
        "    for i in range(len(centers[c])):\n",
        "      print((data.columns.values[i]), \": \", np.round(centers[c][i],4))\n",
        "    print(np.count_nonzero(kmeans.labels_ == c), \"Games included in this cluster\")\n",
        "  return"
      ],
      "execution_count": 0,
      "outputs": []
    },
    {
      "cell_type": "code",
      "metadata": {
        "id": "RsU_nJI7kvMn",
        "colab_type": "code",
        "colab": {}
      },
      "source": [
        "fcb_data = [\"fcb_data_pt1_v1.csv\", \"fcb_data_pt2_v1.csv\", \"fcb_data_all_v1.csv\", \"fcb_data_guardiola.csv\", \"fcb_data_enrique.csv\", \"fcb_data_title_wins.csv\", \"fcb_data_title_losses.csv\"]\n",
        "rm_data = [\"rm_data_pt1_v1.csv\", \"rm_data_pt2_v1.csv\", \"rm_data_all_v1.csv\", \"rm_data_mourinho.csv\", \"rm_data_ancelotti.csv\", \"rm_data_zidane.csv\", \"rm_data_title_wins.csv\", \"rm_data_title_losses.csv\"]"
      ],
      "execution_count": 0,
      "outputs": []
    },
    {
      "cell_type": "code",
      "metadata": {
        "id": "kFjxVoKKT5ar",
        "colab_type": "code",
        "outputId": "e84e6287-90ec-4312-9681-773df4eb4235",
        "colab": {
          "base_uri": "https://localhost:8080/",
          "height": 1000
        }
      },
      "source": [
        "\"\"\"\n",
        "#2009/10-2013/14 seasons for each team\n",
        "print(\"-------------------------------- Clusters for 2009/10-2013/14 Seasons (Barcelona) --------------------------------\")\n",
        "KMC(fcb_data[0], 3)\n",
        "print(\"-------------------------------- Clusters for 2009/10-2013/14 Seasons (Real Madrid) --------------------------------\")\n",
        "KMC(rm_data[0], 3)\n",
        "\n",
        "#2014/15-2017/18 seasons for each team\n",
        "print(\"-------------------------------- Clusters for 2014/15-2017/18 Seasons (Barcelona) --------------------------------\")\n",
        "KMC(fcb_data[1], 2)\n",
        "print(\"-------------------------------- Clusters for 2014/15-2017/18 Seasons (Real Madrid) --------------------------------\")\n",
        "KMC(rm_data[1], 2)\n",
        "\n",
        "#2009/10-2017-18 seasons for each team\n",
        "print(\"-------------------------------- Clusters for 2009/10-2017/18 Seasons (Barcelona) --------------------------------\")\n",
        "KMC(fcb_data[2], 2)\n",
        "print(\"-------------------------------- Clusters for 2009/10-2017/18 Seasons (Real Madrid) --------------------------------\")\n",
        "KMC(rm_data[2], 2)\n",
        "\n",
        "#Real Madrid Managers\n",
        "print(\"-------------------------------- Clusters for Mourinho --------------------------------\")\n",
        "KMC(rm_data[3], 2)\n",
        "\n",
        "print(\"-------------------------------- Clusters for Ancelotti --------------------------------\")\n",
        "KMC(rm_data[4], 2)\n",
        "\n",
        "print(\"-------------------------------- Clusters for Zidane --------------------------------\")\n",
        "KMC(rm_data[5], 2)\n",
        "\n",
        "#Barcelona Managers\n",
        "print(\"-------------------------------- Clusters for Guardiola --------------------------------\")\n",
        "KMC(fcb_data[3], 3)\n",
        "\n",
        "print(\"-------------------------------- Clusters for Enrique --------------------------------\")\n",
        "KMC(fcb_data[4], 3)\n",
        "\n",
        "#Title Winning Seasons for Barcelona\n",
        "print(\"-------------------------------- Clusters for Title Winning Seasons (Barcelona) --------------------------------\")\n",
        "KMC(fcb_data[5], 2)\n",
        "\n",
        "#Title Winning Seasons for Real Madrid\n",
        "print(\"-------------------------------- Clusters for Title Winning Seasons (Real Madrid) --------------------------------\")\n",
        "KMC(rm_data[6], 2)\n",
        "\n",
        "#Title Losing Seasons for Barcelona\n",
        "print(\"-------------------------------- Clusters for Title Losing Seasons (Barcelona) --------------------------------\")\n",
        "KMC(fcb_data[6], 2)\n",
        "\n",
        "#Title Losing Seasons for Real Madrid\n",
        "print(\"-------------------------------- Clusters for Title Losing Seasons (Real Madrid) --------------------------------\")\n",
        "KMC(rm_data[7], 2)\n",
        "\"\"\""
      ],
      "execution_count": 0,
      "outputs": [
        {
          "output_type": "stream",
          "text": [
            "-------------------------------- Clusters for Title Winning Seasons (Barcelona) --------------------------------\n",
            "---------Values for Cluster 1 ---------\n",
            "matchday :  20.4167\n",
            "days_since_last_game_fcb :  5.9444\n",
            "days_since_last_game_opp :  7.3611\n",
            "home_0_away_1 :  0.75\n",
            "final_league_position :  10.5556\n",
            "elo_opp :  1715.2222\n",
            "elo_fcb :  2039.0556\n",
            "diff_elo :  282.75\n",
            "odds_of_fcb_win :  0.7108\n",
            "points_won :  0.7222\n",
            "36 Games included in this cluster\n",
            "---------Values for Cluster 2 ---------\n",
            "matchday :  18.875\n",
            "days_since_last_game_fcb :  6.25\n",
            "days_since_last_game_opp :  6.375\n",
            "home_0_away_1 :  0.75\n",
            "final_league_position :  3.0\n",
            "elo_opp :  1981.625\n",
            "elo_fcb :  2061.125\n",
            "diff_elo :  39.375\n",
            "odds_of_fcb_win :  0.4125\n",
            "points_won :  0.5\n",
            "8 Games included in this cluster\n",
            "-------------------------------- Clusters for Title Winning Seasons (Real Madrid) --------------------------------\n",
            "---------Values for Cluster 1 ---------\n",
            "matchday :  16.4\n",
            "days_since_last_game_madrid :  3.6\n",
            "days_since_last_game_opp :  4.7\n",
            "home_0_away_1 :  0.5\n",
            "final_league_position :  10.6\n",
            "elo_opp :  1712.0\n",
            "elo_madrid :  2048.5\n",
            "diff_elo :  336.4\n",
            "odds_of_madrid_win :  0.781\n",
            "points_won :  0.8\n",
            "10 Games included in this cluster\n",
            "---------Values for Cluster 2 ---------\n",
            "matchday :  22.2\n",
            "days_since_last_game_madrid :  3.4\n",
            "days_since_last_game_opp :  5.2\n",
            "home_0_away_1 :  0.4\n",
            "final_league_position :  2.6\n",
            "elo_opp :  1969.6\n",
            "elo_madrid :  2048.6\n",
            "diff_elo :  92.8\n",
            "odds_of_madrid_win :  0.48\n",
            "points_won :  0.4\n",
            "5 Games included in this cluster\n",
            "-------------------------------- Clusters for Title Losing Seasons (Barcelona) --------------------------------\n",
            "---------Values for Cluster 1 ---------\n",
            "matchday :  14.6875\n",
            "days_since_last_game_fcb :  5.25\n",
            "days_since_last_game_opp :  8.6875\n",
            "home_0_away_1 :  0.8125\n",
            "final_league_position :  10.625\n",
            "elo_opp :  1707.9375\n",
            "elo_fcb :  2045.5\n",
            "diff_elo :  283.0\n",
            "odds_of_fcb_win :  0.7069\n",
            "points_won :  0.625\n",
            "16 Games included in this cluster\n",
            "---------Values for Cluster 2 ---------\n",
            "matchday :  18.0\n",
            "days_since_last_game_fcb :  3.3333\n",
            "days_since_last_game_opp :  5.0\n",
            "home_0_away_1 :  0.0\n",
            "final_league_position :  1.6667\n",
            "elo_opp :  2040.0\n",
            "elo_fcb :  2051.0\n",
            "diff_elo :  99.6667\n",
            "odds_of_fcb_win :  0.4967\n",
            "points_won :  0.6667\n",
            "3 Games included in this cluster\n",
            "-------------------------------- Clusters for Title Losing Seasons (Real Madrid) --------------------------------\n",
            "---------Values for Cluster 1 ---------\n",
            "matchday :  18.0\n",
            "days_since_last_game_madrid :  6.1111\n",
            "days_since_last_game_opp :  6.2222\n",
            "home_0_away_1 :  0.5\n",
            "final_league_position :  1.8333\n",
            "elo_opp :  1989.7778\n",
            "elo_madrid :  2014.6667\n",
            "diff_elo :  20.3889\n",
            "odds_of_madrid_win :  0.3822\n",
            "points_won :  0.3333\n",
            "18 Games included in this cluster\n",
            "---------Values for Cluster 2 ---------\n",
            "matchday :  17.9608\n",
            "days_since_last_game_madrid :  6.1373\n",
            "days_since_last_game_opp :  7.4902\n",
            "home_0_away_1 :  0.7255\n",
            "final_league_position :  10.8039\n",
            "elo_opp :  1716.3137\n",
            "elo_madrid :  2026.6078\n",
            "diff_elo :  274.451\n",
            "odds_of_madrid_win :  0.7082\n",
            "points_won :  0.5882\n",
            "51 Games included in this cluster\n"
          ],
          "name": "stdout"
        }
      ]
    },
    {
      "cell_type": "code",
      "metadata": {
        "id": "3Axr3FTC_L4x",
        "colab_type": "code",
        "colab": {}
      },
      "source": [
        ""
      ],
      "execution_count": 0,
      "outputs": []
    }
  ]
}